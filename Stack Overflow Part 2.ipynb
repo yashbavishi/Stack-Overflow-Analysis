{
 "cells": [
  {
   "cell_type": "markdown",
   "metadata": {},
   "source": [
    "# Stack Overflow Analysis Part 2"
   ]
  },
  {
   "cell_type": "markdown",
   "metadata": {},
   "source": [
    "## Introduction "
   ]
  },
  {
   "cell_type": "markdown",
   "metadata": {},
   "source": [
    "In the second part of this project, I have chosen to create and analyze time series of creation dates of Stack Overflow questions to find two most similar users and two most dissimilar users. I have also worked on the following hypothesis."
   ]
  },
  {
   "cell_type": "markdown",
   "metadata": {},
   "source": [
    "Hypothesis: Question activity peaks during holidays i.e. summer months (June to August) and winter months (December and January). I am analyzing monthly time series of creation dates of Stack Overflow questions and comparing question counts for top 100 users. My hypothesis states that user activity represented by question counts is higher during holidays i.e. summer months (June to August) and winter months (December and January). This is based on the assumption that Stack Overflow users are mostly students who have more free time during holidays relative to rest of the school year and start new projects / tutorials / internships during those months. "
   ]
  },
  {
   "cell_type": "markdown",
   "metadata": {},
   "source": [
    "I have resampled the data monthly and have applied euclidean distance to the generated timeseries'. I use euclidean distance as it is the most popular distance function when comparing quantitative data."
   ]
  },
  {
   "cell_type": "code",
   "execution_count": 2,
   "metadata": {
    "collapsed": true
   },
   "outputs": [],
   "source": [
    "import pandas as pd\n",
    "import sklearn.metrics.pairwise as metrics\n",
    "from numpy import unravel_index\n",
    "from numpy import argmax\n",
    "import matplotlib.pyplot as plt\n",
    "import datetime"
   ]
  },
  {
   "cell_type": "code",
   "execution_count": 3,
   "metadata": {},
   "outputs": [
    {
     "name": "stdout",
     "output_type": "stream",
     "text": [
      "<class 'pandas.core.frame.DataFrame'>\n",
      "Int64Index: 2518833 entries, 3 to 5751160\n",
      "Data columns (total 8 columns):\n",
      "Id              float64\n",
      "CreationDate    object\n",
      "OwnerUserId     float64\n",
      "ParentId        float64\n",
      "Tag             object\n",
      "ViewCount       float64\n",
      "Score           float64\n",
      "Type            object\n",
      "dtypes: float64(5), object(3)\n",
      "memory usage: 173.0+ MB\n"
     ]
    }
   ],
   "source": [
    "df = pd.read_csv('stackoverflow_dataframe.csv')\n",
    "df_ques = df[(df['Type']=='Q')&~(df['OwnerUserId'].isnull())]\n",
    "df_ques.info()"
   ]
  },
  {
   "cell_type": "code",
   "execution_count": 4,
   "metadata": {},
   "outputs": [
    {
     "name": "stderr",
     "output_type": "stream",
     "text": [
      "c:\\users\\yash\\appdata\\local\\programs\\python\\python35\\lib\\site-packages\\ipykernel_launcher.py:1: SettingWithCopyWarning: \n",
      "A value is trying to be set on a copy of a slice from a DataFrame.\n",
      "Try using .loc[row_indexer,col_indexer] = value instead\n",
      "\n",
      "See the caveats in the documentation: http://pandas.pydata.org/pandas-docs/stable/indexing.html#indexing-view-versus-copy\n",
      "  \"\"\"Entry point for launching an IPython kernel.\n"
     ]
    },
    {
     "name": "stdout",
     "output_type": "stream",
     "text": [
      "<class 'pandas.core.frame.DataFrame'>\n",
      "RangeIndex: 100 entries, 0 to 99\n",
      "Data columns (total 2 columns):\n",
      "OwnerUserId    100 non-null float64\n",
      "Count          100 non-null float64\n",
      "dtypes: float64(2)\n",
      "memory usage: 1.6 KB\n"
     ]
    }
   ],
   "source": [
    "df_ques['Count'] = df_ques.groupby('OwnerUserId')['OwnerUserId'].transform('count')\n",
    "df_top_users = df_ques[['OwnerUserId', 'Count']].drop_duplicates().sort_values('Count', ascending=False).reset_index(drop=True)\n",
    "df_top_100_users = df_top_users[:100]\n",
    "df_top_100_users.info()"
   ]
  },
  {
   "cell_type": "code",
   "execution_count": 5,
   "metadata": {},
   "outputs": [
    {
     "data": {
      "text/html": [
       "<div>\n",
       "<style>\n",
       "    .dataframe thead tr:only-child th {\n",
       "        text-align: right;\n",
       "    }\n",
       "\n",
       "    .dataframe thead th {\n",
       "        text-align: left;\n",
       "    }\n",
       "\n",
       "    .dataframe tbody tr th {\n",
       "        vertical-align: top;\n",
       "    }\n",
       "</style>\n",
       "<table border=\"1\" class=\"dataframe\">\n",
       "  <thead>\n",
       "    <tr style=\"text-align: right;\">\n",
       "      <th></th>\n",
       "      <th>CreationDate</th>\n",
       "      <th>OwnerUserId</th>\n",
       "    </tr>\n",
       "  </thead>\n",
       "  <tbody>\n",
       "    <tr>\n",
       "      <th>19</th>\n",
       "      <td>2015-01-01 00:05:03.773</td>\n",
       "      <td>875317.0</td>\n",
       "    </tr>\n",
       "    <tr>\n",
       "      <th>155</th>\n",
       "      <td>2015-01-01 00:49:12.937</td>\n",
       "      <td>409976.0</td>\n",
       "    </tr>\n",
       "    <tr>\n",
       "      <th>582</th>\n",
       "      <td>2015-01-01 03:41:14.750</td>\n",
       "      <td>2879704.0</td>\n",
       "    </tr>\n",
       "    <tr>\n",
       "      <th>685</th>\n",
       "      <td>2015-01-01 04:26:23.437</td>\n",
       "      <td>409976.0</td>\n",
       "    </tr>\n",
       "    <tr>\n",
       "      <th>716</th>\n",
       "      <td>2015-01-01 04:37:40.790</td>\n",
       "      <td>40106.0</td>\n",
       "    </tr>\n",
       "  </tbody>\n",
       "</table>\n",
       "</div>"
      ],
      "text/plain": [
       "               CreationDate  OwnerUserId\n",
       "19  2015-01-01 00:05:03.773     875317.0\n",
       "155 2015-01-01 00:49:12.937     409976.0\n",
       "582 2015-01-01 03:41:14.750    2879704.0\n",
       "685 2015-01-01 04:26:23.437     409976.0\n",
       "716 2015-01-01 04:37:40.790      40106.0"
      ]
     },
     "execution_count": 5,
     "metadata": {},
     "output_type": "execute_result"
    }
   ],
   "source": [
    "df_ques = df_ques[df_ques['OwnerUserId'].isin(df_top_100_users['OwnerUserId'])][['CreationDate', 'OwnerUserId']]\n",
    "df_ques['CreationDate'] = pd.to_datetime(df_ques['CreationDate'],infer_datetime_format=True)\n",
    "df_ques.head()"
   ]
  },
  {
   "cell_type": "code",
   "execution_count": 6,
   "metadata": {
    "collapsed": true
   },
   "outputs": [],
   "source": [
    "TimeSeries =  pd.DataFrame()\n",
    "TimeSeriesList = []\n",
    "def createTimeSeries(userid):\n",
    "    data = df_ques[df_ques['OwnerUserId'] == userid]\n",
    "    global TimeSeries\n",
    "    global TimeSeriesList\n",
    "    series = data.resample('M', on='CreationDate', label='right')['OwnerUserId'].count().rename(str(userid))\n",
    "    TimeSeries = pd.concat([TimeSeries, series],axis=1)\n",
    "    TimeSeries = TimeSeries.fillna(0)\n",
    "    TimeSeriesList.append(TimeSeries[str(userid)].values.tolist())\n",
    "    #TimeSeriesDict[userid] = TimeSeries[str(userid)].values.tolist()\n",
    "    \n"
   ]
  },
  {
   "cell_type": "code",
   "execution_count": 7,
   "metadata": {},
   "outputs": [
    {
     "data": {
      "text/html": [
       "<div>\n",
       "<style>\n",
       "    .dataframe thead tr:only-child th {\n",
       "        text-align: right;\n",
       "    }\n",
       "\n",
       "    .dataframe thead th {\n",
       "        text-align: left;\n",
       "    }\n",
       "\n",
       "    .dataframe tbody tr th {\n",
       "        vertical-align: top;\n",
       "    }\n",
       "</style>\n",
       "<table border=\"1\" class=\"dataframe\">\n",
       "  <thead>\n",
       "    <tr style=\"text-align: right;\">\n",
       "      <th></th>\n",
       "      <th>875317.0</th>\n",
       "      <th>2786156.0</th>\n",
       "      <th>1194415.0</th>\n",
       "      <th>651174.0</th>\n",
       "      <th>1833945.0</th>\n",
       "      <th>1223975.0</th>\n",
       "      <th>4381665.0</th>\n",
       "      <th>4009451.0</th>\n",
       "      <th>2674303.0</th>\n",
       "      <th>784597.0</th>\n",
       "      <th>...</th>\n",
       "      <th>3102968.0</th>\n",
       "      <th>4499505.0</th>\n",
       "      <th>3736648.0</th>\n",
       "      <th>3595549.0</th>\n",
       "      <th>122536.0</th>\n",
       "      <th>264052.0</th>\n",
       "      <th>40106.0</th>\n",
       "      <th>1197249.0</th>\n",
       "      <th>4968722.0</th>\n",
       "      <th>651887.0</th>\n",
       "    </tr>\n",
       "    <tr>\n",
       "      <th>CreationDate</th>\n",
       "      <th></th>\n",
       "      <th></th>\n",
       "      <th></th>\n",
       "      <th></th>\n",
       "      <th></th>\n",
       "      <th></th>\n",
       "      <th></th>\n",
       "      <th></th>\n",
       "      <th></th>\n",
       "      <th></th>\n",
       "      <th></th>\n",
       "      <th></th>\n",
       "      <th></th>\n",
       "      <th></th>\n",
       "      <th></th>\n",
       "      <th></th>\n",
       "      <th></th>\n",
       "      <th></th>\n",
       "      <th></th>\n",
       "      <th></th>\n",
       "      <th></th>\n",
       "    </tr>\n",
       "  </thead>\n",
       "  <tbody>\n",
       "    <tr>\n",
       "      <th>2015-01-31</th>\n",
       "      <td>37</td>\n",
       "      <td>44</td>\n",
       "      <td>42</td>\n",
       "      <td>40</td>\n",
       "      <td>24</td>\n",
       "      <td>22</td>\n",
       "      <td>12</td>\n",
       "      <td>30</td>\n",
       "      <td>26</td>\n",
       "      <td>34</td>\n",
       "      <td>...</td>\n",
       "      <td>7</td>\n",
       "      <td>6</td>\n",
       "      <td>26</td>\n",
       "      <td>0.0</td>\n",
       "      <td>20</td>\n",
       "      <td>15</td>\n",
       "      <td>12</td>\n",
       "      <td>1</td>\n",
       "      <td>0.0</td>\n",
       "      <td>0.0</td>\n",
       "    </tr>\n",
       "    <tr>\n",
       "      <th>2015-02-28</th>\n",
       "      <td>16</td>\n",
       "      <td>30</td>\n",
       "      <td>34</td>\n",
       "      <td>35</td>\n",
       "      <td>39</td>\n",
       "      <td>21</td>\n",
       "      <td>36</td>\n",
       "      <td>7</td>\n",
       "      <td>30</td>\n",
       "      <td>14</td>\n",
       "      <td>...</td>\n",
       "      <td>7</td>\n",
       "      <td>2</td>\n",
       "      <td>21</td>\n",
       "      <td>5.0</td>\n",
       "      <td>34</td>\n",
       "      <td>23</td>\n",
       "      <td>5</td>\n",
       "      <td>15</td>\n",
       "      <td>0.0</td>\n",
       "      <td>1.0</td>\n",
       "    </tr>\n",
       "    <tr>\n",
       "      <th>2015-03-31</th>\n",
       "      <td>37</td>\n",
       "      <td>7</td>\n",
       "      <td>46</td>\n",
       "      <td>40</td>\n",
       "      <td>25</td>\n",
       "      <td>21</td>\n",
       "      <td>31</td>\n",
       "      <td>19</td>\n",
       "      <td>15</td>\n",
       "      <td>20</td>\n",
       "      <td>...</td>\n",
       "      <td>2</td>\n",
       "      <td>3</td>\n",
       "      <td>16</td>\n",
       "      <td>8.0</td>\n",
       "      <td>32</td>\n",
       "      <td>9</td>\n",
       "      <td>27</td>\n",
       "      <td>39</td>\n",
       "      <td>0.0</td>\n",
       "      <td>12.0</td>\n",
       "    </tr>\n",
       "    <tr>\n",
       "      <th>2015-04-30</th>\n",
       "      <td>34</td>\n",
       "      <td>28</td>\n",
       "      <td>39</td>\n",
       "      <td>25</td>\n",
       "      <td>36</td>\n",
       "      <td>27</td>\n",
       "      <td>37</td>\n",
       "      <td>17</td>\n",
       "      <td>27</td>\n",
       "      <td>9</td>\n",
       "      <td>...</td>\n",
       "      <td>0</td>\n",
       "      <td>27</td>\n",
       "      <td>5</td>\n",
       "      <td>11.0</td>\n",
       "      <td>16</td>\n",
       "      <td>16</td>\n",
       "      <td>14</td>\n",
       "      <td>15</td>\n",
       "      <td>0.0</td>\n",
       "      <td>15.0</td>\n",
       "    </tr>\n",
       "    <tr>\n",
       "      <th>2015-05-31</th>\n",
       "      <td>22</td>\n",
       "      <td>48</td>\n",
       "      <td>23</td>\n",
       "      <td>38</td>\n",
       "      <td>24</td>\n",
       "      <td>31</td>\n",
       "      <td>25</td>\n",
       "      <td>21</td>\n",
       "      <td>19</td>\n",
       "      <td>15</td>\n",
       "      <td>...</td>\n",
       "      <td>49</td>\n",
       "      <td>42</td>\n",
       "      <td>20</td>\n",
       "      <td>5.0</td>\n",
       "      <td>11</td>\n",
       "      <td>9</td>\n",
       "      <td>14</td>\n",
       "      <td>15</td>\n",
       "      <td>0.0</td>\n",
       "      <td>12.0</td>\n",
       "    </tr>\n",
       "    <tr>\n",
       "      <th>2015-06-30</th>\n",
       "      <td>50</td>\n",
       "      <td>38</td>\n",
       "      <td>14</td>\n",
       "      <td>21</td>\n",
       "      <td>26</td>\n",
       "      <td>47</td>\n",
       "      <td>22</td>\n",
       "      <td>46</td>\n",
       "      <td>22</td>\n",
       "      <td>18</td>\n",
       "      <td>...</td>\n",
       "      <td>14</td>\n",
       "      <td>40</td>\n",
       "      <td>23</td>\n",
       "      <td>31.0</td>\n",
       "      <td>1</td>\n",
       "      <td>4</td>\n",
       "      <td>6</td>\n",
       "      <td>6</td>\n",
       "      <td>17.0</td>\n",
       "      <td>13.0</td>\n",
       "    </tr>\n",
       "    <tr>\n",
       "      <th>2015-07-31</th>\n",
       "      <td>49</td>\n",
       "      <td>31</td>\n",
       "      <td>20</td>\n",
       "      <td>35</td>\n",
       "      <td>20</td>\n",
       "      <td>37</td>\n",
       "      <td>32</td>\n",
       "      <td>29</td>\n",
       "      <td>22</td>\n",
       "      <td>17</td>\n",
       "      <td>...</td>\n",
       "      <td>15</td>\n",
       "      <td>18</td>\n",
       "      <td>16</td>\n",
       "      <td>19.0</td>\n",
       "      <td>1</td>\n",
       "      <td>10</td>\n",
       "      <td>17</td>\n",
       "      <td>12</td>\n",
       "      <td>30.0</td>\n",
       "      <td>15.0</td>\n",
       "    </tr>\n",
       "    <tr>\n",
       "      <th>2015-08-31</th>\n",
       "      <td>44</td>\n",
       "      <td>32</td>\n",
       "      <td>40</td>\n",
       "      <td>24</td>\n",
       "      <td>30</td>\n",
       "      <td>39</td>\n",
       "      <td>28</td>\n",
       "      <td>30</td>\n",
       "      <td>30</td>\n",
       "      <td>12</td>\n",
       "      <td>...</td>\n",
       "      <td>5</td>\n",
       "      <td>11</td>\n",
       "      <td>13</td>\n",
       "      <td>24.0</td>\n",
       "      <td>5</td>\n",
       "      <td>2</td>\n",
       "      <td>6</td>\n",
       "      <td>31</td>\n",
       "      <td>28.0</td>\n",
       "      <td>27.0</td>\n",
       "    </tr>\n",
       "    <tr>\n",
       "      <th>2015-09-30</th>\n",
       "      <td>49</td>\n",
       "      <td>25</td>\n",
       "      <td>39</td>\n",
       "      <td>25</td>\n",
       "      <td>24</td>\n",
       "      <td>17</td>\n",
       "      <td>36</td>\n",
       "      <td>47</td>\n",
       "      <td>28</td>\n",
       "      <td>15</td>\n",
       "      <td>...</td>\n",
       "      <td>24</td>\n",
       "      <td>5</td>\n",
       "      <td>9</td>\n",
       "      <td>26.0</td>\n",
       "      <td>2</td>\n",
       "      <td>10</td>\n",
       "      <td>13</td>\n",
       "      <td>6</td>\n",
       "      <td>16.0</td>\n",
       "      <td>5.0</td>\n",
       "    </tr>\n",
       "    <tr>\n",
       "      <th>2015-10-31</th>\n",
       "      <td>50</td>\n",
       "      <td>42</td>\n",
       "      <td>33</td>\n",
       "      <td>24</td>\n",
       "      <td>31</td>\n",
       "      <td>22</td>\n",
       "      <td>29</td>\n",
       "      <td>24</td>\n",
       "      <td>25</td>\n",
       "      <td>28</td>\n",
       "      <td>...</td>\n",
       "      <td>19</td>\n",
       "      <td>0</td>\n",
       "      <td>3</td>\n",
       "      <td>7.0</td>\n",
       "      <td>4</td>\n",
       "      <td>8</td>\n",
       "      <td>13</td>\n",
       "      <td>8</td>\n",
       "      <td>37.0</td>\n",
       "      <td>16.0</td>\n",
       "    </tr>\n",
       "    <tr>\n",
       "      <th>2015-11-30</th>\n",
       "      <td>38</td>\n",
       "      <td>28</td>\n",
       "      <td>17</td>\n",
       "      <td>8</td>\n",
       "      <td>26</td>\n",
       "      <td>14</td>\n",
       "      <td>9</td>\n",
       "      <td>17</td>\n",
       "      <td>15</td>\n",
       "      <td>40</td>\n",
       "      <td>...</td>\n",
       "      <td>17</td>\n",
       "      <td>1</td>\n",
       "      <td>7</td>\n",
       "      <td>19.0</td>\n",
       "      <td>7</td>\n",
       "      <td>26</td>\n",
       "      <td>19</td>\n",
       "      <td>3</td>\n",
       "      <td>22.0</td>\n",
       "      <td>41.0</td>\n",
       "    </tr>\n",
       "    <tr>\n",
       "      <th>2015-12-31</th>\n",
       "      <td>50</td>\n",
       "      <td>10</td>\n",
       "      <td>14</td>\n",
       "      <td>23</td>\n",
       "      <td>30</td>\n",
       "      <td>34</td>\n",
       "      <td>26</td>\n",
       "      <td>9</td>\n",
       "      <td>13</td>\n",
       "      <td>40</td>\n",
       "      <td>...</td>\n",
       "      <td>2</td>\n",
       "      <td>6</td>\n",
       "      <td>1</td>\n",
       "      <td>5.0</td>\n",
       "      <td>27</td>\n",
       "      <td>27</td>\n",
       "      <td>13</td>\n",
       "      <td>8</td>\n",
       "      <td>8.0</td>\n",
       "      <td>0.0</td>\n",
       "    </tr>\n",
       "  </tbody>\n",
       "</table>\n",
       "<p>12 rows × 100 columns</p>\n",
       "</div>"
      ],
      "text/plain": [
       "              875317.0  2786156.0  1194415.0  651174.0  1833945.0  1223975.0  \\\n",
       "CreationDate                                                                   \n",
       "2015-01-31          37         44         42        40         24         22   \n",
       "2015-02-28          16         30         34        35         39         21   \n",
       "2015-03-31          37          7         46        40         25         21   \n",
       "2015-04-30          34         28         39        25         36         27   \n",
       "2015-05-31          22         48         23        38         24         31   \n",
       "2015-06-30          50         38         14        21         26         47   \n",
       "2015-07-31          49         31         20        35         20         37   \n",
       "2015-08-31          44         32         40        24         30         39   \n",
       "2015-09-30          49         25         39        25         24         17   \n",
       "2015-10-31          50         42         33        24         31         22   \n",
       "2015-11-30          38         28         17         8         26         14   \n",
       "2015-12-31          50         10         14        23         30         34   \n",
       "\n",
       "              4381665.0  4009451.0  2674303.0  784597.0    ...     3102968.0  \\\n",
       "CreationDate                                               ...                 \n",
       "2015-01-31           12         30         26        34    ...             7   \n",
       "2015-02-28           36          7         30        14    ...             7   \n",
       "2015-03-31           31         19         15        20    ...             2   \n",
       "2015-04-30           37         17         27         9    ...             0   \n",
       "2015-05-31           25         21         19        15    ...            49   \n",
       "2015-06-30           22         46         22        18    ...            14   \n",
       "2015-07-31           32         29         22        17    ...            15   \n",
       "2015-08-31           28         30         30        12    ...             5   \n",
       "2015-09-30           36         47         28        15    ...            24   \n",
       "2015-10-31           29         24         25        28    ...            19   \n",
       "2015-11-30            9         17         15        40    ...            17   \n",
       "2015-12-31           26          9         13        40    ...             2   \n",
       "\n",
       "              4499505.0  3736648.0  3595549.0  122536.0  264052.0  40106.0  \\\n",
       "CreationDate                                                                 \n",
       "2015-01-31            6         26        0.0        20        15       12   \n",
       "2015-02-28            2         21        5.0        34        23        5   \n",
       "2015-03-31            3         16        8.0        32         9       27   \n",
       "2015-04-30           27          5       11.0        16        16       14   \n",
       "2015-05-31           42         20        5.0        11         9       14   \n",
       "2015-06-30           40         23       31.0         1         4        6   \n",
       "2015-07-31           18         16       19.0         1        10       17   \n",
       "2015-08-31           11         13       24.0         5         2        6   \n",
       "2015-09-30            5          9       26.0         2        10       13   \n",
       "2015-10-31            0          3        7.0         4         8       13   \n",
       "2015-11-30            1          7       19.0         7        26       19   \n",
       "2015-12-31            6          1        5.0        27        27       13   \n",
       "\n",
       "              1197249.0  4968722.0  651887.0  \n",
       "CreationDate                                  \n",
       "2015-01-31            1        0.0       0.0  \n",
       "2015-02-28           15        0.0       1.0  \n",
       "2015-03-31           39        0.0      12.0  \n",
       "2015-04-30           15        0.0      15.0  \n",
       "2015-05-31           15        0.0      12.0  \n",
       "2015-06-30            6       17.0      13.0  \n",
       "2015-07-31           12       30.0      15.0  \n",
       "2015-08-31           31       28.0      27.0  \n",
       "2015-09-30            6       16.0       5.0  \n",
       "2015-10-31            8       37.0      16.0  \n",
       "2015-11-30            3       22.0      41.0  \n",
       "2015-12-31            8        8.0       0.0  \n",
       "\n",
       "[12 rows x 100 columns]"
      ]
     },
     "execution_count": 7,
     "metadata": {},
     "output_type": "execute_result"
    }
   ],
   "source": [
    "df_top_100_users['OwnerUserId'].apply(createTimeSeries)\n",
    "TimeSeries = TimeSeries.fillna(0)\n",
    "index_list = TimeSeries.index.tolist()\n",
    "#print(index_list)\n",
    "TimeSeries"
   ]
  },
  {
   "cell_type": "code",
   "execution_count": 8,
   "metadata": {},
   "outputs": [
    {
     "name": "stdout",
     "output_type": "stream",
     "text": [
      "Similarity between the top 100 users:\n",
      "[[   0.           69.34695379   68.81133628 ...,  108.56795107\n",
      "    98.07140256  105.33280591]\n",
      " [  69.34695379    0.           58.83876273 ...,   88.81441324\n",
      "    81.09870529   80.73413157]\n",
      " [  68.81133628   58.83876273    0.         ...,   69.89992847\n",
      "    89.13472948   84.36824047]\n",
      " ..., \n",
      " [ 108.56795107   88.81441324   69.89992847 ...,    0.           62.87288764\n",
      "    50.81338406]\n",
      " [  98.07140256   81.09870529   89.13472948 ...,   62.87288764    0.\n",
      "    41.74925149]\n",
      " [ 105.33280591   80.73413157   84.36824047 ...,   50.81338406\n",
      "    41.74925149    0.        ]]\n"
     ]
    }
   ],
   "source": [
    "\n",
    "euclidean_dists = metrics.euclidean_distances(TimeSeriesList)\n",
    "print('Similarity between the top 100 users:')\n",
    "print(euclidean_dists)"
   ]
  },
  {
   "cell_type": "markdown",
   "metadata": {},
   "source": [
    "\n",
    "Plot the 2 most similar timeseries in one graph, and plot the 2 most different time series in another graph. Label your axes. **(5 pts)**"
   ]
  },
  {
   "cell_type": "code",
   "execution_count": 9,
   "metadata": {
    "scrolled": true
   },
   "outputs": [
    {
     "name": "stdout",
     "output_type": "stream",
     "text": [
      "The two most disimilar users are 1 and 75\n"
     ]
    },
    {
     "data": {
      "image/png": "[encoded data removed]",
      "text/plain": [
       "<matplotlib.figure.Figure at 0x29f025b6dd8>"
      ]
     },
     "metadata": {},
     "output_type": "display_data"
    }
   ],
   "source": [
    "i,j = unravel_index(argmax(euclidean_dists),euclidean_dists.shape)\n",
    "index = [1,2,3,4,5,6,7,8,9,10,11,12]\n",
    "print('The two most disimilar users are {} and {}'.format(i+1,j+1))\n",
    "plt.plot(index,TimeSeriesList[i] )\n",
    "plt.plot(index,TimeSeriesList[j] )\n",
    "plt.xlabel('Month')\n",
    "plt.ylabel('Number of Questions')\n",
    "plt.show()"
   ]
  },
  {
   "cell_type": "code",
   "execution_count": 10,
   "metadata": {},
   "outputs": [
    {
     "name": "stdout",
     "output_type": "stream",
     "text": [
      "The two most similar users are 56 and 72\n"
     ]
    },
    {
     "data": {
      "image/png": "[encoded data removed]",
      "text/plain": [
       "<matplotlib.figure.Figure at 0x29f025c0940>"
      ]
     },
     "metadata": {},
     "output_type": "display_data"
    }
   ],
   "source": [
    "min_dist = euclidean_dists[0][1]\n",
    "for x in range(100):\n",
    "    for y in range(100):\n",
    "        if x != y:\n",
    "            if euclidean_dists[x][y] < min_dist:\n",
    "                min_dist = euclidean_dists[x][y]\n",
    "                index_user1 = x\n",
    "                index_user2 = y\n",
    "\n",
    "print('The two most similar users are {} and {}'.format(index_user1+1,index_user2+1))\n",
    "plt.plot(index,TimeSeriesList[index_user1])\n",
    "plt.plot(index,TimeSeriesList[index_user2])\n",
    "plt.xlabel('Month')\n",
    "plt.ylabel('Number of Questions')\n",
    "plt.show()"
   ]
  },
  {
   "cell_type": "markdown",
   "metadata": {},
   "source": [
    "Looking at the plot for two most similar users, we can see that the question count visibly peaks at three points, beginning January, June, July, August, December.\n",
    "From the curve for two most dissimilar user, we can infer that the user with a higher count is over 15 counts throughout the year,with the highest count being achieved in June, July and December.\n",
    "Both curves together can be used to conclude that question user activity peaks during holiday months, confirming my hypothesis that user activity increases during holidays."
   ]
  },
  {
   "cell_type": "markdown",
   "metadata": {},
   "source": [
    "-----------------"
   ]
  },
  {
   "cell_type": "code",
   "execution_count": 14,
   "metadata": {},
   "outputs": [
    {
     "name": "stdout",
     "output_type": "stream",
     "text": [
      "Similarity between the top 100 users:\n",
      "[[ 0.          0.12189039  0.11844521 ...,  0.28720938  0.19130045\n",
      "   0.2503682 ]\n",
      " [ 0.12189039  0.          0.13813158 ...,  0.37805206  0.29343692\n",
      "   0.27776773]\n",
      " [ 0.11844521  0.13813158  0.         ...,  0.165515    0.4012663\n",
      "   0.33639895]\n",
      " ..., \n",
      " [ 0.28720938  0.37805206  0.165515   ...,  0.          0.51458754\n",
      "   0.36310171]\n",
      " [ 0.19130045  0.29343692  0.4012663  ...,  0.51458754  0.          0.2231084 ]\n",
      " [ 0.2503682   0.27776773  0.33639895 ...,  0.36310171  0.2231084   0.        ]]\n"
     ]
    }
   ],
   "source": [
    "cosine_dists = metrics.cosine_distances(TimeSeriesList)\n",
    "print('Similarity between the top 100 users:')\n",
    "print(cosine_dists)"
   ]
  },
  {
   "cell_type": "code",
   "execution_count": 15,
   "metadata": {},
   "outputs": [
    {
     "name": "stdout",
     "output_type": "stream",
     "text": [
      "The two most disimilar users are 1 and 75\n"
     ]
    },
    {
     "data": {
      "image/png": "[encoded data removed]",
      "text/plain": [
       "<matplotlib.figure.Figure at 0x29f4be7f2e8>"
      ]
     },
     "metadata": {},
     "output_type": "display_data"
    }
   ],
   "source": [
    "m,n = unravel_index(argmax(cosine_dists),cosine_dists.shape)\n",
    "index = [1,2,3,4,5,6,7,8,9,10,11,12]\n",
    "print('The two most disimilar users are {} and {}'.format(i+1,j+1))\n",
    "plt.plot(index,TimeSeriesList[m])\n",
    "plt.plot(index,TimeSeriesList[n])\n",
    "plt.xlabel('Month')\n",
    "plt.ylabel('Number of Questions')\n",
    "plt.show()"
   ]
  },
  {
   "cell_type": "code",
   "execution_count": 16,
   "metadata": {},
   "outputs": [
    {
     "name": "stdout",
     "output_type": "stream",
     "text": [
      "The two most similar users are 5 and 26\n"
     ]
    },
    {
     "data": {
      "image/png": "[encoded data removed]",
      "text/plain": [
       "<matplotlib.figure.Figure at 0x29f0295d390>"
      ]
     },
     "metadata": {},
     "output_type": "display_data"
    }
   ],
   "source": [
    "min_dist = cosine_dists[0][1]\n",
    "for x in range(100):\n",
    "    for y in range(100):\n",
    "        if x != y:\n",
    "            if cosine_dists[x][y] < min_dist:\n",
    "                min_dist = cosine_dists[x][y]\n",
    "                index_user1 = x\n",
    "                index_user2 = y\n",
    "\n",
    "print('The two most similar users are {} and {}'.format(index_user1+1,index_user2+1))\n",
    "plt.plot(index,TimeSeriesList[index_user1])\n",
    "plt.plot(index,TimeSeriesList[index_user2])\n",
    "plt.xlabel('Month')\n",
    "plt.ylabel('Number of Questions')\n",
    "plt.show()"
   ]
  },
  {
   "cell_type": "markdown",
   "metadata": {},
   "source": [
    "As I have monthly data of question counts, I am using Euclidean and Cosine metric to find distance between top users. Cosine provides an accurate measure of similarity/dissimarity by analyzing the angle between two vectors. To complement the similarity/dissimilarity analysis, I used Euclidean metric as it focuses on magnitude of the difference between two objects. Both metric reflect the similarity with different aspect and together, will complement my analysis."
   ]
  },
  {
   "cell_type": "markdown",
   "metadata": {
    "collapsed": true
   },
   "source": [
    "Euclidean distance gave me the expected results. This is because here my data is quantitative and I am interested in the magnitude difference of values, hence euclidean distance gives me more accurate reults. "
   ]
  },
  {
   "cell_type": "markdown",
   "metadata": {},
   "source": [
    "# Conclusion"
   ]
  },
  {
   "cell_type": "markdown",
   "metadata": {},
   "source": [
    "The methods used here are reliable and give a good sense of the data but this doesn't mean that are analysis is 100% accurate. Since the output is positive, this calls for further analysis on similar lines."
   ]
  }
 ],
 "metadata": {
  "anaconda-cloud": {},
  "kernelspec": {
   "display_name": "Python 3",
   "language": "python",
   "name": "python3"
  },
  "language_info": {
   "codemirror_mode": {
    "name": "ipython",
    "version": 3
   },
   "file_extension": ".py",
   "mimetype": "text/x-python",
   "name": "python",
   "nbconvert_exporter": "python",
   "pygments_lexer": "ipython3",
   "version": "3.6.3"
  }
 },
 "nbformat": 4,
 "nbformat_minor": 1
}
