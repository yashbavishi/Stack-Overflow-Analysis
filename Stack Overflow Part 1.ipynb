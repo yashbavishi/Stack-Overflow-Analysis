{
 "cells": [
  {
   "cell_type": "markdown",
   "metadata": {},
   "source": [
    "# Stack Overflow Analysis Part 1"
   ]
  },
  {
   "cell_type": "markdown",
   "metadata": {},
   "source": [
    "## Introduction "
   ]
  },
  {
   "cell_type": "markdown",
   "metadata": {},
   "source": [
    "In this project, I have used some posts on Stack Overflow during the year of 2015 and measured the similarity of  users by looking at their answers' score. "
   ]
  },
  {
   "cell_type": "markdown",
   "metadata": {},
   "source": [
    "The data can be found here: [data dump](https://drive.google.com/a/bu.edu/file/d/0BzeSDLWpnNHxaEd5XzhIZ2tJMlU/view?usp=sharing) for Stack Overflow's posts in 2015. Note that the XML file is 10GB."
   ]
  },
  {
   "cell_type": "code",
   "execution_count": 66,
   "metadata": {
    "collapsed": true,
    "scrolled": true
   },
   "outputs": [],
   "source": [
    "#File imports\n",
    "import pandas as pd\n",
    "import xml.etree.ElementTree as ET\n",
    "import time\n",
    "import csv\n",
    "from collections import OrderedDict\n",
    "from sklearn.feature_extraction.text import CountVectorizer\n",
    "import random\n",
    "import matplotlib.pyplot as plt\n",
    "import seaborn as sns\n",
    "%matplotlib inline\n"
   ]
  },
  {
   "cell_type": "code",
   "execution_count": 67,
   "metadata": {},
   "outputs": [
    {
     "name": "stdout",
     "output_type": "stream",
     "text": [
      "UnicodeDecodeError detected. Continuing parsing of file.\n",
      "UnicodeDecodeError detected. Continuing parsing of file.\n",
      "UnicodeDecodeError detected. Continuing parsing of file.\n",
      "UnicodeDecodeError detected. Continuing parsing of file.\n",
      "UnicodeDecodeError detected. Continuing parsing of file.\n",
      "UnicodeDecodeError detected. Continuing parsing of file.\n",
      "UnicodeDecodeError detected. Continuing parsing of file.\n",
      "UnicodeDecodeError detected. Continuing parsing of file.\n",
      "UnicodeDecodeError detected. Continuing parsing of file.\n",
      "UnicodeDecodeError detected. Continuing parsing of file.\n",
      "End of iteration.\n",
      "Time taken to parse the file: 654.2530908584595\n",
      "Number of UnicodeDecodeErrors encountered: 10\n"
     ]
    }
   ],
   "source": [
    "# Functions\n",
    "\n",
    "startTime = time.time()\n",
    "f = open('stackoverflow-posts-2015.xml', 'r', errors='replace')\n",
    "content =  ET.iterparse(f, events=('end',))\n",
    "contentIterator = iter(content)\n",
    "dataCSV = open('stackoverflow_dataframe.csv','w')\n",
    "csvwriter = csv.writer(dataCSV)\n",
    "columns=['Id','CreationDate','OwnerUserId', 'ParentId','Tag','ViewCount','Score','Type']\n",
    "csvwriter.writerow(columns)\n",
    "errorCounter = 0\n",
    "while True:\n",
    "    try:\n",
    "        event, elem = next(contentIterator)\n",
    "    except UnicodeDecodeError:\n",
    "        errorCounter += 1\n",
    "        print('UnicodeDecodeError detected. Continuing parsing of file.')\n",
    "        pass\n",
    "    except StopIteration:\n",
    "        print('End of iteration.')\n",
    "        break\n",
    "    try:\n",
    "        if elem.tag == 'row':\n",
    "            row = []\n",
    "            row.append(elem.get('Id'))\n",
    "            row.append(elem.get('CreationDate'))\n",
    "            row.append(elem.get('OwnerUserId'))\n",
    "            row.append(elem.get('ParentId'))\n",
    "            Tags = elem.get('Tags')\n",
    "            if Tags:    \n",
    "                Tags = Tags.split('>')\n",
    "                row.append(Tags[0][1:])\n",
    "            else:\n",
    "                row.append('None')\n",
    "            row.append(elem.get('ViewCount'))\n",
    "            row.append(elem.get('Score'))\n",
    "            PostTypeId = elem.get('PostTypeId')\n",
    "            if PostTypeId == '1':\n",
    "                row.append('Q')\n",
    "            else:\n",
    "                row.append('A')\n",
    "            csvwriter.writerow(row)\n",
    "            elem.clear()\n",
    "    except Exception as e:\n",
    "        print(e)\n",
    "        pass\n",
    "\n",
    "dataCSV.close()\n",
    "endTime = time.time()\n",
    "print('Time taken to parse the file: ' + str(endTime - startTime))\n",
    "print('Number of UnicodeDecodeErrors encountered: ' + str(errorCounter))"
   ]
  },
  {
   "cell_type": "code",
   "execution_count": 81,
   "metadata": {},
   "outputs": [
    {
     "name": "stdout",
     "output_type": "stream",
     "text": [
      "<class 'pandas.core.frame.DataFrame'>\n",
      "Int64Index: 5732347 entries, 0 to 5751162\n",
      "Data columns (total 8 columns):\n",
      "Id              5732347 non-null float64\n",
      "CreationDate    5732347 non-null object\n",
      "OwnerUserId     5732347 non-null float64\n",
      "ParentId        5732347 non-null object\n",
      "Tag             5732347 non-null object\n",
      "ViewCount       5732347 non-null object\n",
      "Score           5732347 non-null float64\n",
      "Type            5732347 non-null object\n",
      "dtypes: float64(3), object(5)\n",
      "memory usage: 393.6+ MB\n",
      "None\n",
      "           Id             CreationDate  OwnerUserId     ParentId   Tag  \\\n",
      "0  27727381.0  2015-01-01T00:00:27.040    1971096.0  2.84521e+06  None   \n",
      "1  27727382.0  2015-01-01T00:00:31.240    2410359.0  2.77271e+07  None   \n",
      "2  27727384.0  2015-01-01T00:00:50.550    1366219.0  2.77256e+07  None   \n",
      "3  27727385.0  2015-01-01T00:00:58.253    3210431.0         None   php   \n",
      "4  27727387.0  2015-01-01T00:01:43.597    3886175.0  1.19621e+07  None   \n",
      "\n",
      "  ViewCount  Score Type  \n",
      "0      None    6.0    A  \n",
      "1      None    0.0    A  \n",
      "2      None    1.0    A  \n",
      "3       184    0.0    Q  \n",
      "4      None    0.0    A  \n"
     ]
    }
   ],
   "source": [
    "df = pd.read_csv('stackoverflow_dataframe.csv')\n",
    "df = df[~df['OwnerUserId'].isnull()]\n",
    "df = df.fillna('None')\n",
    "print(df.info(null_counts=True))\n",
    "print(df.head())"
   ]
  },
  {
   "cell_type": "markdown",
   "metadata": {},
   "source": [
    "-----------------"
   ]
  },
  {
   "cell_type": "code",
   "execution_count": 94,
   "metadata": {
    "scrolled": true
   },
   "outputs": [
    {
     "data": {
      "text/html": [
       "<div>\n",
       "<style>\n",
       "    .dataframe thead tr:only-child th {\n",
       "        text-align: right;\n",
       "    }\n",
       "\n",
       "    .dataframe thead th {\n",
       "        text-align: left;\n",
       "    }\n",
       "\n",
       "    .dataframe tbody tr th {\n",
       "        vertical-align: top;\n",
       "    }\n",
       "</style>\n",
       "<table border=\"1\" class=\"dataframe\">\n",
       "  <thead>\n",
       "    <tr style=\"text-align: right;\">\n",
       "      <th></th>\n",
       "      <th>Id_ans</th>\n",
       "      <th>OwnerUserId_ans</th>\n",
       "      <th>Score</th>\n",
       "      <th>ParentId</th>\n",
       "      <th>Id_ques</th>\n",
       "      <th>OwnerUserId_ques</th>\n",
       "      <th>Tag</th>\n",
       "    </tr>\n",
       "  </thead>\n",
       "  <tbody>\n",
       "    <tr>\n",
       "      <th>0</th>\n",
       "      <td>27727421.0</td>\n",
       "      <td>871026.0</td>\n",
       "      <td>1.0</td>\n",
       "      <td>2.77274e+07</td>\n",
       "      <td>27727407.0</td>\n",
       "      <td>821742.0</td>\n",
       "      <td>java</td>\n",
       "    </tr>\n",
       "    <tr>\n",
       "      <th>1</th>\n",
       "      <td>27727426.0</td>\n",
       "      <td>3113558.0</td>\n",
       "      <td>0.0</td>\n",
       "      <td>2.77274e+07</td>\n",
       "      <td>27727419.0</td>\n",
       "      <td>347062.0</td>\n",
       "      <td>html</td>\n",
       "    </tr>\n",
       "    <tr>\n",
       "      <th>2</th>\n",
       "      <td>27727428.0</td>\n",
       "      <td>541091.0</td>\n",
       "      <td>0.0</td>\n",
       "      <td>2.77274e+07</td>\n",
       "      <td>27727410.0</td>\n",
       "      <td>541091.0</td>\n",
       "      <td>mysql</td>\n",
       "    </tr>\n",
       "    <tr>\n",
       "      <th>3</th>\n",
       "      <td>27727432.0</td>\n",
       "      <td>6216.0</td>\n",
       "      <td>2.0</td>\n",
       "      <td>2.77274e+07</td>\n",
       "      <td>27727394.0</td>\n",
       "      <td>4263870.0</td>\n",
       "      <td>php</td>\n",
       "    </tr>\n",
       "    <tr>\n",
       "      <th>4</th>\n",
       "      <td>27727515.0</td>\n",
       "      <td>1300892.0</td>\n",
       "      <td>0.0</td>\n",
       "      <td>2.77274e+07</td>\n",
       "      <td>27727394.0</td>\n",
       "      <td>4263870.0</td>\n",
       "      <td>php</td>\n",
       "    </tr>\n",
       "  </tbody>\n",
       "</table>\n",
       "</div>"
      ],
      "text/plain": [
       "       Id_ans  OwnerUserId_ans  Score     ParentId     Id_ques  \\\n",
       "0  27727421.0         871026.0    1.0  2.77274e+07  27727407.0   \n",
       "1  27727426.0        3113558.0    0.0  2.77274e+07  27727419.0   \n",
       "2  27727428.0         541091.0    0.0  2.77274e+07  27727410.0   \n",
       "3  27727432.0           6216.0    2.0  2.77274e+07  27727394.0   \n",
       "4  27727515.0        1300892.0    0.0  2.77274e+07  27727394.0   \n",
       "\n",
       "   OwnerUserId_ques    Tag  \n",
       "0          821742.0   java  \n",
       "1          347062.0   html  \n",
       "2          541091.0  mysql  \n",
       "3         4263870.0    php  \n",
       "4         4263870.0    php  "
      ]
     },
     "execution_count": 94,
     "metadata": {},
     "output_type": "execute_result"
    }
   ],
   "source": [
    "df_ques = df[~(df['OwnerUserId'].isnull())&(df['Type']=='Q')][['Id', 'OwnerUserId', 'Tag']]\n",
    "df_ans = df[~(df['OwnerUserId'].isnull())&(df['Type']=='A')][['Id', 'OwnerUserId', 'Score', 'ParentId']]\n",
    "df_joined = pd.merge(df_ans, df_ques, left_on='ParentId', right_on='Id', suffixes=['_ans', '_ques'])\n",
    "df_joined.head()"
   ]
  },
  {
   "cell_type": "code",
   "execution_count": 99,
   "metadata": {},
   "outputs": [
    {
     "data": {
      "text/html": [
       "<div>\n",
       "<style>\n",
       "    .dataframe thead tr:only-child th {\n",
       "        text-align: right;\n",
       "    }\n",
       "\n",
       "    .dataframe thead th {\n",
       "        text-align: left;\n",
       "    }\n",
       "\n",
       "    .dataframe tbody tr th {\n",
       "        vertical-align: top;\n",
       "    }\n",
       "</style>\n",
       "<table border=\"1\" class=\"dataframe\">\n",
       "  <thead>\n",
       "    <tr style=\"text-align: right;\">\n",
       "      <th></th>\n",
       "      <th>OwnerUserId_ans</th>\n",
       "      <th>Score</th>\n",
       "    </tr>\n",
       "  </thead>\n",
       "  <tbody>\n",
       "    <tr>\n",
       "      <th>95</th>\n",
       "      <td>139985.0</td>\n",
       "      <td>1654.0</td>\n",
       "    </tr>\n",
       "    <tr>\n",
       "      <th>96</th>\n",
       "      <td>5070879.0</td>\n",
       "      <td>1651.0</td>\n",
       "    </tr>\n",
       "    <tr>\n",
       "      <th>97</th>\n",
       "      <td>2372064.0</td>\n",
       "      <td>1646.0</td>\n",
       "    </tr>\n",
       "    <tr>\n",
       "      <th>98</th>\n",
       "      <td>3093378.0</td>\n",
       "      <td>1641.0</td>\n",
       "    </tr>\n",
       "    <tr>\n",
       "      <th>99</th>\n",
       "      <td>1064245.0</td>\n",
       "      <td>1638.0</td>\n",
       "    </tr>\n",
       "  </tbody>\n",
       "</table>\n",
       "</div>"
      ],
      "text/plain": [
       "    OwnerUserId_ans   Score\n",
       "95         139985.0  1654.0\n",
       "96        5070879.0  1651.0\n",
       "97        2372064.0  1646.0\n",
       "98        3093378.0  1641.0\n",
       "99        1064245.0  1638.0"
      ]
     },
     "execution_count": 99,
     "metadata": {},
     "output_type": "execute_result"
    }
   ],
   "source": [
    "df_top_users = df_joined.groupby(['OwnerUserId_ans'], as_index=False)[['Score']].sum()\n",
    "df_top_users = df_top_users.sort_values('Score', ascending=False).reset_index(drop=True)\n",
    "df_top_100_users = df_top_users[:100]\n",
    "df_top_100_users.tail()"
   ]
  },
  {
   "cell_type": "code",
   "execution_count": 96,
   "metadata": {},
   "outputs": [
    {
     "data": {
      "text/plain": [
       "['delphi, function, multithreading, c++, vb.net, python, c#, c, winapi, windows, android, mysql, forms, java, string, pinvoke, listview, excel, xml, lazarus, performance, arrays, editplus, json, 64bit, c#-4.0, osx, cmd, c++builder, matlab, dll, registry, class, file, sqlite, visual-studio-2013, list, git, .net, session, node.js, generics, interface, delphi-xe8, visual-studio, unit-testing, wpf, if-statement, r, database, dllimport, sockets, linux, swift, qt, algorithm, delphi-xe5, ios',\n",
       " 'c++, c, arrays, c++11, templates',\n",
       " 'javascript, c#, python, java, regex, php, ruby-on-rails, html, ruby, jquery, mysql, ios, asp.net, sql-server, sql, c++, .net, string, json, arrays, android',\n",
       " 'php, mysql, angularjs, laravel, javascript, datetime, twitter-bootstrap, authentication, model-view-controller, regex, sqlite, ajax, validation, oop, arrays, testing, events, database, image, laravel-4, ubuntu, templates, jquery, apache, forms, redirect, sql, git, laravel-routing, laravel-5, blade, composer-php, unit-testing, url, url-routing, html, caching, input, eloquent, model, json, vagrant, ruby, request, date, time',\n",
       " 'c++, c, file, objective-c, android, java, python, php, sql, makefile, c#',\n",
       " 'php, c++, html, c, jquery, javascript, python, design-patterns, c++11, makefile, multithreading, notepad++, mysql, linux, cuda, svn, casting, gnuplot, shell, file, hash, c#',\n",
       " 'c#, .net, sql, nhibernate, sql-server, linq, c++, c#-4.0, javascript, c, list, regex, asp.net, java, entity-framework, c++-cli',\n",
       " 'c#, mysql, sql, asp.net, .net, sql-server, vb.net, oauth-2.0, html, visual-studio-2013, floating-point, javascript, oracle, sql-server-2008, database, xml, api, equals, rest, html5, jquery, java',\n",
       " 'php, c, java, data-structures, c++, linux, perl, algorithm, image, arrays, ios, string, javascript, bash, python, c#, python-2.7, websphere-mq, mysql, ubuntu, regex, shell, unix, excel, statistics, version, swift, documentation, nsdateformatter, vbscript, batch-file, syntax, class, cat, windows, sql, awk, encoding, memory, jquery, powershell, c++11, virtual-machine, assembly, lua, system, python-3.x, sorting, objective-c, variables, recursion, vb.net, loops, ports, hex, multithreading, pipe, pointers, command-line, decode, playframework-1.x, osx, notepad++, while-loop, ruby, optimization, sqlite, vim, gcc, mips, heisenbug, pthreads, go, tcp, switch-statement, r, ceil, windows-messages, scrum, subprocess, boolean-expression, sed, xml, unicode, postgresql, wpf, case, cmd, exit-code, boolean, limit, actionscript-3, visual-studio, vba, makefile, boolean-logic, android, if-statement, url, sql-server-2008, oracle, architecture, arduino, nasm, binary, cobol, linker, ruby-on-rails, ascii, debian, floating-point, sql-server, apache, circular-buffer, sql-server-2012, linked-list, parsing, math, database, function, web-services, gulp, fortran, dynamic, segmentation-fault, terminal, accelerometer, spring, html, matlab, integer, gnuplot, ms-dos',\n",
       " 'linux, c, vhdl, syntax, bash, compilation, osx, javascript, regex, grammar, parsing, c++, yacc, compiler-construction, css, ios, bison, database, algorithm, arrays, python, java, ruby, compiler-errors, context-free-grammar, lex, nested, programming-languages, node.js, string, recursion, antlr, include, shell, python-2.7, language-agnostic, c#, performance, git, swift, unix, syntax-error, command, data-structures, flex-lexer, comments, operators, compatibility, macros, awk, mysql, c-preprocessor, memory, html, gcc, abstract-syntax-tree, makefile, warnings, context-free-language, ruby-on-rails, optimization, debugging, android, jison, json, printf, windows, pattern-matching, objective-c, php, complexity-theory, wget, sed',\n",
       " 'c++, java, c, c++11, c#, python, gcc',\n",
       " '.net, python, javascript, c#, mysql, regex, java, vba, excel, html5, jquery, wordpress, ruby-on-rails, html, php, excel-vba, ruby, xml, c++, asp.net, ios, linq, r, objective-c, android, lua, sql, machine-learning, c, sql-server, json, arrays, string, css',\n",
       " 'r, regex, arrays, sql, python, mysql',\n",
       " 'r, regex, python, arrays, database, c#, c++, xml, linux, split, json, sql, mysql, android',\n",
       " 'javascript, html, css, jquery, css3, flexbox, html5, php, cross-browser, angularjs, big-o',\n",
       " 'rust, linker, data-structures, string, iterator, arrays, io, closures, types, module, windows, operator-overloading, math, colors, c, android-ndk, linux, vector, coding-style, string-formatting, testing, callback, regex, global-variables, multithreading, initialization, generics, recursion, git, process, binding, image, polymorphism, ascii, pointers, http, osx, file, error-handling, loops, unit-testing, encoding, floating-point, random, memory-management, casting, reference, hash, serialization, stack, profiling, hashmap, compiler-errors, parsing, python, logging, enums, macros, csv, printf, namespaces, file-io, struct, c++, r, redis, integer, input, gtk, compilation, oop, linked-list, list, json, function, stream, for-loop, inheritance, makefile, pipe, performance, syntax, time, path, methods, unicode, pattern-matching, opengl, collections, oauth, static, concurrency, memory-leaks, opencv',\n",
       " 'java, swing, sql',\n",
       " 'c++, c, java, design, c#, rust, pattern-matching, c++11, linux, templates, lisp, pointers, arrays, python',\n",
       " 'jquery, mysql, php, javascript, css, html, meteor, plesk, thymeleaf, c#, solr, ajax, html5, sql, java, json',\n",
       " 'matlab, arrays, performance, python, string, sql, image, excel, linux, bash, algorithm, regex, c++, windows, java',\n",
       " 'jquery, javascript, php, css, asp.net, html, regex, mysql, ruby, c#, java, node.js',\n",
       " 'c++, android, c, java, python',\n",
       " 'python, django, java, javascript, angularjs, selenium, c#, html, jasmine, web-scraping, testing, xpath, arrays, xml, post, eclipse, regex, php, jquery, database, web, google-chrome, css, beautifulsoup, ruby, c#-4.0, login, error-handling, android, scrapy, protractor, selenium-webdriver, mongodb, file, jenkins, python-3.x, node.js, ruby-on-rails, firefox, list, python-2.7, angularjs-scope, pdf, ajax, html5, linux, canvas, asp.net, flask, phantomjs, intellij-idea, text, webdriver, json, perl, r, string, osx, vba, typescript',\n",
       " 'java, php, regex, ant, multithreading, c#, variables, date, bash, android, loops, eclipse, unix, osx, c, string, svn, xml, maven, sorting, ios, javascript, file',\n",
       " 'c#, unit-testing, java, javascript, .net',\n",
       " 'c++, c, c#, android, .net, objective-c, python, java, javascript, string',\n",
       " 'c++, python, javascript, python-3.x, c, java, c#, python-2.7, types',\n",
       " 'javascript, jquery, ajax, java, php, css, knockout.js, html, vim, json, c++, android, arrays, regex, linux, c, floating-point, c#, node.js, unix, sql, postgresql, java-6, oracle10g, visual-studio, inheritance, asp.net, google-chrome',\n",
       " 'c, bash, sql, perl, linux, c++, shell, informix, unix, mysql, debugging, c#, awk, regex, arrays, osx, git, database, sed, csv, gcc, calendar, printing, file, python, c99, datetime, algorithm, yacc, scheduling, variables, url, synchronization, oracle11g, backup, windows, stored-procedures, php, makefile, unicode, join, pointers, list, filenames, process, excel, symlink, templates, java, ubuntu, reference',\n",
       " 'java, linux, python, perl, eclipse, jsp, bash, c++, html, for-loop, jdbc, unix, sql, c, shell, javascript, c++11, oop, ubuntu, git, spring, sublimetext3, string, polymorphism',\n",
       " 'winforms, c#, c++, vb.net, properties, c, string, visual-studio-2012, c++-cli, multithreading, .net, visual-c++, windows, exception-handling, windows-runtime, interface, assembly, winapi, architecture, visual-studio-2013, cmd, visual-studio, exception, visual-studio-2010, windows-7, arrays, com-interop, com, serial-port, x86, 64bit, wpf, listview, binary, node.js, list, generics, datetime, dll, interpreter, windows-8, vba, file, enums, c#-4.0, performance, command-line, visual-studio-2015',\n",
       " 'c, ruby, loops, random, ruby-on-rails, c++, arrays, lua, perl, string, function, time, memory, regex, linux, ip-address, for-loop, awk, java, sockets, indexing, email, json, python, file, file-io, base64, input, javascript, if-statement, variables, algorithm, c#, unix, xml',\n",
       " 'c++, python, c, c#, c++11, java, git, winforms, linux, templates, inheritance, theory',\n",
       " 'javascript, python, python-3.x, list, node.js, string, haskell',\n",
       " 'javascript, jquery, java, php, c#',\n",
       " 'linux, python, php, java, regex, unix, javascript, .net, sed, android, html, c#, ruby, bash, ruby-on-rails, r, string, c++, ios, variables, ubuntu, csv, jquery, batch-file, shell, awk, asp.net, python-2.7, file, internationalization, json, xml, perl, date, arrays, if-statement, osx, c, mysql, git, sql, table, django-urls, objective-c, windows',\n",
       " 'python, python-2.7, javascript, list, python-3.x, php, linux, string, java, robotframework, c#, excel, for-loop, regex, csv, arrays',\n",
       " 'c, c++, java, c#, runtime, assembly, python, language-agnostic',\n",
       " 'java, generics, performance, logic',\n",
       " 'javascript, jquery, reactjs, node.js, gulp, ecmascript-6, python, php, regex, class, xmlhttprequest, java, module, cors, browserify, css, namespaces, curl, angularjs, html, git, webpack',\n",
       " 'python, java, methods, vertica, python-3.x, javascript, sql',\n",
       " 'xcode, swift, ios, pointers, c++, generics, html, objective-c, arrays, cocoa, osx, multithreading, string, sqlite, xcode6, json, struct, mysql, sockets, sorting, core-data, iphone, performance, regex, ruby, php, c, algorithm, function, java, database, python',\n",
       " 'java',\n",
       " 'java, angularjs, jpa, javascript, hibernate, restlet, spring, spring-mvc, jsp, groovy, json, gradle, servlets, tomcat, sql, maven, java-8, lambda, git, mysql, exception-handling, arrays, jsf, oracle, jdbc, html, web-services, java-ee, database, jstl, image, functional-programming, nested, design-patterns, postgresql, collections, github, intellij-idea, google-app-engine, encoding, testing, junit, rest, properties, exception, spring-data-jpa, unit-testing, validation, android, transactions, oop, multithreading, class, eclipse, string, jackson, kotlin, hql',\n",
       " 'java, java-8, compiler-construction, chronicle, c#, git, jvm, docker, database, floating-point, c++, algorithm, memory, ipc, lambda, performance, reference',\n",
       " 'ecmascript-6, php, java, c, sql, html, sql-server-2014, mysql, c#, windows, c++, linux, sql-server, javascript, oracle, windows-7-x64, html5, css, sql-server-2008-r2, jquery, ms-access, hql, sql-server-2008, objective-c, angularjs, xml, vb.net, ios, phpstorm, asp.net, pgp, unix, firefox, semaphore, oracle11g, regex, reporting-services, database, matlab, sqlite3, sqlite, git, awk, shell, access-vba, h2, python-2.7, excel-formula, performance, sqlexception, asp.net-mvc-4, grails, gcc, puppet, perl, batch-file, momentjs, vbscript, google-bigquery, javafx, ubuntu, python, table, postgresql, css3, visual-studio, sqlalchemy, sql-server-2012, enums, condition, stored-procedures, tsql, unicode, android, excel, types, sql-server-2016, actionscript, rdbms, internet-explorer-11, unity3d, security, string, eclipse, http, date, data-structures, pdo, swift, sed, entity-framework, python-3.x, .net, hive, hex, jsp, arrays, oracle10g, postgresql-9.1, sql-server-express',\n",
       " 'perl, multithreading, c++, html, mysql, regex, bash, json, c, xml, linux, osx, sql, performance, arrays, python, php, sql-server, ios, windows, javascript, java, selenium, sh, shell, ruby, csh, unix, parsing, git, angularjs, sockets, apache, oracle, algorithm, database, string, r, c#',\n",
       " 'c++, c, c++11, java, templates, arrays',\n",
       " 'pandas, select, python, function, python-2.7, python-3.x, windbg, csv, debugging, c++, numpy, regex, scikit-learn, string, datetime',\n",
       " 'c++, java, c#, python, c++11, templates, multithreading, c++14, macros, c, ios, swift, javascript, jquery, algorithm',\n",
       " 'c++, c, javascript, python, java, c#, build, linux, performance',\n",
       " 'php, c, c++, javascript, java, haskell, list',\n",
       " 'c++, visual-studio-2012, boost, http, multithreading, templates, objective-c, shell, bash, git, c++11, parsing, vim, makefile, linux, boost-spirit, boost-asio, visual-studio, unix, linq, ios, python, gcc, unit-testing, android, pointers, c#, boost-spirit-qi, recursion, sockets, c, json, serialization, tcp, function, regex, xml, debugging, java, eclipse, operating-system, graph-algorithm, boost-graph, windows, performance, string, iterator',\n",
       " 'javascript, php, http, html, jquery, perl, xml, scripting, magento, json, xhtml, node.js, wordpress, ascii, passwords, ajax, meteor, linux, rest, css, .htaccess, https, firefox, arrays, twitter-bootstrap, robots.txt, ubuntu, html5, website, content-security-policy, mysql, regex, sockets, asp.net, web, apache, geoip, git, api, iife, angularjs, mozilla, ssh, domdocument, twitter-bootstrap-4, hash',\n",
       " 'go, java, function, list, http, variables, recursion, templates, string, for-loop, performance, xml, dictionary, select, javascript, python, html, google-app-engine, generics, error-handling, json, exception, math, struct, windows, pointers, unit-testing, arrays, rest, session, mongodb, orm, jquery, random, interface, testing, unicode, url, ruby-on-rails, amazon-web-services, methods, datetime, process, sockets, concurrency, dynamic, oop, regex, algorithm, reflection, import, memory-management, mysql, syntax, csv, parsing, types, time, input, sorting, eclipse, css, php, post, file, linux, multithreading, image, hash, search, memory, inheritance',\n",
       " 'c#, java, mysql, generics, datetime, syntax-error, .net, javascript, date, vb.net, linq, timezone, asp.net, objective-c, c, design-patterns, default, c#-4.0, php, postgresql, winforms, ruby-on-rails, asp.net-5, android, ios, ruby, python, omnisharp, nodatime, multithreading, minecraft, unix, character-encoding, oop, java-8, xml, kubernetes, ubuntu, jodatime, .net-3.5, html, groovy, git, angularjs, visual-studio, list, visual-studio-2015, c++, asp.net-mvc, sql-server, swift, json, oracle, parsing, docker',\n",
       " 'php, java, regex, apache, javascript, .htaccess, linux, bash, osx, arrays, string, python, shell, image, c#, csh, html, mysql, html5, wordpress, excel, ruby, jquery, spring, json, ajax, .net, tcl, android, angularjs, asp.net, ruby-on-rails, c, list, sql, ksh, windows, sed, xcode, git, perl, xml, file, awk',\n",
       " 'c++, matlab, wolfram-mathematica, osx, c++11, c, git, python, c#, android, linux, arrays, java, gcc',\n",
       " 'python, python-3.x, python-2.7, windows, matplotlib, numpy, mysql, datetime, variables, pandas, memory, math, xpath, arrays, performance, matrix, php, linux, image, xml, r, multithreading, html, string, regex, if-statement',\n",
       " 'java, spring, servlets, http, json, android, javascript, spring-mvc, jackson, multithreading, lambda',\n",
       " 'matlab, c++, arrays, performance, image, string, python, java, regex, excel, c, python-2.7, opencv, algorithm, r, image-processing, scilab, php, android, octave, json',\n",
       " 'javascript, angularjs, jquery, json, html, java, arrays, asp.net-mvc, ajax, css, ruby-on-rails, django, android, firebase, .net, c#, asp.net, python, php, data-binding',\n",
       " 'c, c++, 64bit, c99, git, windows, javascript, c++builder, gcc',\n",
       " 'linux, c, c++, python, bash, git, arrays, json, lisp, x86, unix, emacs, visual-studio-2010, c++11, database, gcc, assembly, static, file-io, shell, scheme, function, multithreading, jvm, memory, networking, mono, java, io, types, functional-programming, algorithm, pseudocode, posix, timer, linux-kernel, process, loops, qt, encoding, memory-management, windows, popen, port, user-interface, virtualization, ubuntu, game-engine, random, code-analysis, lua, redhat, sockets, make, makefile, compilation, sql, glibc, arduino, compiler-construction',\n",
       " 'javascript, html, jquery, css, css3, html5, twitter-bootstrap, java, php, sass, less, jquery-ui, node.js, css-selectors, regex, c#',\n",
       " 'python, django, ajax, javascript, java, json, html, google-app-engine, ruby-on-rails, jquery, regex, linux, mysql, sql, python-2.7, angularjs, android, php, apache',\n",
       " 'git, go, github, pointers, unix, variables, eclipse, function, msbuild, jenkins, regex, svn, oauth-2.0, python, android, clearcase-ucm, clearcase, java, emacs, views, clearcase-remote-client, rtc, import, version-control, c, linux, git-bash, http, gitlab, google-app-engine, serialization, string, ruby-on-rails, github-api, multithreading, intellij-idea, interface, javascript, build, windows, ruby, xcode, node.js, iframe, ssh, wamp, process, sqlite, error-handling, arrays, vagrant, diff, phpstorm, c++, reflection, shell, sonarqube, msysgit, asp.net, osx, loops, bash, excel, api, label, ant, html, unit-testing, find, command-line, merge, code-coverage, xml, registry, generics, php, group, curl, c#, ios, git-submodules, types, timestamp, codeblocks, linux-kernel, docker, nginx, mysql, cloud, cmd, proxy, visual-studio-2012, tomcat, ip, encoding, ubuntu, vim, boot2docker, mongodb, branch, window, dns, wordpress, postgresql, view, sed, installation, comparison, gitolite, networking, testing, integration, apache, ibm, makefile, dictionary, heroku, cleartool, githooks, ssl, exception, gitignore, authentication, git-stash, django, caching, plugins, logging, redirect, compiler-errors, stream, perl, character-encoding, grep, rad, netbeans, git-config, sas, ldap, email, garbage-collection, client, visual-studio, security, sql, commit, rest, robots.txt, image, deployment, meteor, fork, database, r, bitbucket, bluemix, selenium, neo4j, hadoop, elasticsearch, tcl, permissions, amazon-ec2, websphere, windows-8, classloader, .net, configuration, batch-file, android-studio, symfony2',\n",
       " 'delphi, android, select, c++, win32gui, sockets, xml, c, python, java, encoding, ssl, internet-explorer, file, winapi, c++builder, windows, c#, http, bitmap, unicode, multithreading, api, mysql, google-chrome, visual-c++, editplus, drag-and-drop, osx, c++11, javascript, json, html, vb.net, indy, tcp, arrays, performance, listview, dns, image, pickle, utf-8, serial-port, wmi, file-upload, checkbox, variables, firemonkey, class, mp3, batch-file, properties, vcl, tftp, ios, string, preprocessor, audio, file-io, encode, amazon-web-services, ajax, static-libraries, c++builder-xe7, delphi-xe, winsock2, edit, delphi-7, function, progress-bar, delphi-2010, .net, oauth, visual-studio, delphi-xe2, utf-32, user-interface, indy10, email, ftp, linux, clipboard, php, rad-studio, linker-error, c++builder-6, url, delphi-xe6, forms, com, canvas, compiler-errors, math, database, input',\n",
       " 'c#, java, algorithm, c++, c, vba, python, javascript, excel, excel-vba, mysql, arrays, cygwin, visual-c++, asp.net, boolean-logic, typescript, regex, objective-c, pseudocode, android, php, vbscript, swift2, sql-server, sqlite, ios, vb.net, string, math, openoffice.org, swift, c++11, python-3.x, oop, condition',\n",
       " 'php, javascript, linux, mysql, c, sql, bash, c++, unix, python, makefile, jquery, python-3.x, jquery-ui, shell, regex, osx, lisp, data-structures, html, sqlite, macros, json, dns, arrays, python-2.7, database-design, encryption, pointers, database, css, awk, sockets, string, random, objective-c, networking, ajax, svn, ports, scheme, ruby-on-rails, ip, common-lisp, sqlite3, char, http, sorting, blacklist, validation, post, pdo, session, node-mysql, java, closures, load, at-job, loops, stream, emacs, lambda, c#, node.js',\n",
       " 'performance, matlab, arrays, image, string, algorithm, python, matrix, numpy, octave, python-3.x, pointers, list, python-2.7, if-statement',\n",
       " 'jsf, servlets, image, maven, java, web-services, java-ee, class, forms, javascript, html, jsf-2, url, html5, ajax, jpa, validation, eclipse, css, list, json, jsp, caching, angularjs, spring, internet-explorer, tomcat, jquery, multithreading, sorting, date, security, regex, google-maps, jsf-2.2, arrays, foreach, user-interface, jstl, spring-mvc, http, hibernate, database, xml, apache, csv, twitter-bootstrap, web.xml, minify, file, php, c#',\n",
       " 'elixir, f#, mongodb, c#, sql, linq-to-sql, sql-server, sql-server-2008, tsql, stored-procedures, mysql, ruby-on-rails, entity-framework, sql-server-2012, php, .net, join, database, oracle, string, android, sqlite, sql-server-2014, asp.net, postgresql, java, python, ssis, node.js, regex',\n",
       " 'java, lambda, iteration, concurrency, numbers, multithreading, java-8, collections, dictionary, bytecode, java-bytecode-asm, eclipse, jackson, sorting, jvm, database, arraylist, functional-programming, performance, compiler-construction, maven, intellij-idea, generics, string, javascript, serialization, arrays, filter',\n",
       " 'c++, path, macros, c++11, cmake, c, compilation, arrays, exception, multithreading, batch-file, templates, build, cuda, java, qt',\n",
       " 'java, casting, concurrency, math, java-8, lambda, arrays, character-encoding, functional-programming, windows, dictionary, eclipse, sum, multithreading, double, memory, c++, algorithm, reflection, performance, github, android, selenium, sql, hadoop, jackson, exception, generics, sorting, java-stream, javascript, for-loop',\n",
       " 'java, iteration, android, ios, php, java-8, push-notification, floating-point, lambda, arrays, google-app-engine, google-cloud-messaging, arraylist, string, java-ee, javascript, filter',\n",
       " 'c++, git, c++11, gnu-make, python, multithreading, c, debugging, linux, makefile, vim, make, bash, g++, arrays, gcc, boost, hadoop, c-preprocessor, windows, osx, sorting',\n",
       " 'android, java, javascript, commonsware-cwac, google-chrome-arc, android-studio, php, c#, rake',\n",
       " 'java',\n",
       " 'stripe-payments, java, data-structures, linux, c++, rm, android, c, php, sql, nullpointerexception, osx, garbage-collection, multithreading, algorithm, javascript, mysql, go, safari, git, c#, big-o, file, memory, spring, operator-precedence, shell, google-chrome, regex, jenkins, django, swift, oracle, github, ios, cloud, bash, utf-8, jsf, wget, licensing, string, web-applications, url, interpreter, email, assembly, java-8, performance, apache',\n",
       " 'python, javascript, image, email, http-headers, ajax, python-2.7, python-3.x, php, flask, html, heroku, osx, permissions, java, jquery, pyramid, forms, plot, list, plone, scheduled-tasks, unicode, json, string, class, ssl, file-upload, django, apache, mercurial, api',\n",
       " 'c#, asp.net, java, linq, .net, python, winforms, multithreading',\n",
       " 'java, spring, maven, regex, mysql, oracle, spring-batch, eclipse, scala, javascript, rest, android, web-services, xml, git, hibernate, c++',\n",
       " 'python, algorithm, arrays, file, python-3.x, if-statement, regex, csv, python-2.7, loops, c#, list, php, function, django, sql, java, javascript, c++, ruby, html, .net, android, json, string, date, jquery, sorting',\n",
       " 'javascript, c#, html, windows, interrupt, jquery, mysql, vb.net, assembly, sql, java, typescript, seo, sql-server, .net, asp.net, math, loops, opencv, css, audio, ios, type-conversion, operators, android, json, if-statement, ms-access, serialization, database, c++, arrays, visual-studio-2010, email, regex, linux, html5, visual-studio-2013, xml, performance, oop, variables, y86, emulator, hash, visual-studio, disk, c, php, sockets, asp.net-mvc, function, c#-4.0, string, python, http, tsql, compiler-construction',\n",
       " 'c++, c, c#, java, sql, binary, visual-c++, pronunciation, pointers, mysql, bash, memory, ios, subtraction',\n",
       " 'r, xml, regex, javascript, json, sql, c, python, html, arrays',\n",
       " 'c#, sql, sql-server, mysql, arrays, sql-server-2005, vb.net, asp.net, sql-server-2008, linq, .net, c#-4.0, html, regex, php, javascript, asp.net-mvc, tsql, ado.net, database, entity-framework',\n",
       " 'mysql, sql, php, android, sql-server, database, sql-server-2008-r2, c#, postgresql, java, python, sqlite3, oracle, sql-server-2008, javascript, database-design, sqlite, sas, hive, python-2.7, recall, ms-access, tsql, datetime, excel, ios, google-bigquery, big-o, machine-learning, .net, c++, json, algorithm, firebird, html, node.js, jquery, mysqli, c, arrays, ms-access-2010, informix, sql-server-2005, string, regex, reporting-services, r',\n",
       " 'javascript, html, angularjs, jquery, css, wordpress, php, twitter-bootstrap, jquery-mobile, json, aurelia, arrays, asp.net-mvc, ajax, backbone.js',\n",
       " 'swift, ios, objective-c, cocoa, xcode, ruby, arrays, string, ios7, object, multithreading, bit-manipulation, interface-builder, variables, osx, exception, cocoa-touch, user-interface, uitableview, class, ios8, applescript, function, osx-mavericks, validation, json, enums, iphone, ragel, performance, debugging, swift2, ipad, ios9, cordova, animation',\n",
       " 'node.js, javascript, html5, jquery, socket.io, cookies, websocket, asp.net, html, sockets, http, python, ajax, bluebird, google-chrome, asynchronous, php, css, mobile, ios, cross-domain, java, angularjs, typescript, express, ruby-on-rails, rest, mysql, callback, coffeescript, c#, json, regex, arrays, linux, promise, c++, browser',\n",
       " 'c, c++, java, pointers, python, c#, osx, highcharts, c++11, loops, objective-c, python-2.7, javascript, multithreading, bash, mysql, c++-cli, linux, service, google-chrome, php, shell, gcc, html, node.js, algorithm, arrays, matlab, makefile, push',\n",
       " 'java, c, swift, sql, c++, ios, c#, objective-c, mysql, prolog, algorithm, regex, linq, .net, variables, php, arrays, memory, iphone, string, xcode, sorting, pointers, performance, ada, quicksort, compilation, list, ruby, python, sql-server, asp.net-mvc, asp.net, split, space-complexity, binary, c++11, recursion',\n",
       " 'jquery, javascript, php, c#, java, html, css',\n",
       " 'java, sql, mysql, javascript, php, python, postgresql, c++, mockito, nested, sql-update, git, markdown, c, oracle, linkedin, c++11, group-by, python-2.7, loops, jdbc, algorithm, sql-server, big-o, django, linux, database, android, regex, triggers, language-agnostic, maven, c#, python-3.x, osx, arrays, sql-server-2008, shell, node.js, ruby-on-rails, list, perl, bash, unix, variables, r, .net, ruby, if-statement, html, sql-server-2014, ios, junit, ant, cognos-10, logging, make, vb.net, hadoop, unit-testing, intellij-idea, psr-2, cron, null, os.walk, transactions, makefile, windows, design-patterns, testing, polymorphism, debugging, boolean, string, swift, excel, google-chrome-devtools, arraylist, tsql, stored-procedures, refactoring, docker, ms-access-2010',\n",
       " 'java, objective-c, debian, javascript, html, algorithm, php, merge, arrays, scala, linux, bash, lambda, list, collections, sorting, c++, java-8, time, matlab, dynamic-programming',\n",
       " 'regex, c++, c, text, emacs, bash, ubuntu, linux, sed, python, csv, string, shell, makefile, java, sorting, hash, ruby-on-rails-4, r, xml, file, awk, recursion, unix, git, php, mysql, join, mercurial, replace, unicode, design-patterns, vim, tcl, json, arrays, perl, osx, windows, android, node.js, ruby, ios, html',\n",
       " 'javascript, haskell, regex, node.js, algorithm, coffeescript, mediawiki, prototype, graph-theory, ecmascript-6, angularjs, callback, jquery, list, python-2.7, parsing, wikipedia, frp, performance, json, html, c++, events, promise, closures, underscore.js, ember.js, iterator, java, scala, function, php, module, language-agnostic, if-statement, meteor, namespaces, class, functional-programming, async-await, string, loops']"
      ]
     },
     "execution_count": 96,
     "metadata": {},
     "output_type": "execute_result"
    }
   ],
   "source": [
    "df_tags = df_joined[df_joined['OwnerUserId_ans'].isin(df_top_100_users['OwnerUserId_ans'])][['OwnerUserId_ans', 'Tag']].reset_index(drop=True)\n",
    "df_tags = df_tags.drop_duplicates()\n",
    "top100UsersDict = {k: v['Tag'].tolist() for k,v in df_tags.groupby('OwnerUserId_ans')}\n",
    "top100UsersTagsLists = []\n",
    "tagsString = ', '\n",
    "for OwnerUserId in top100UsersDict:\n",
    "    top100UsersTagsLists.append(tagsString.join(top100UsersDict[OwnerUserId]))"
   ]
  },
  {
   "cell_type": "code",
   "execution_count": 105,
   "metadata": {},
   "outputs": [
    {
     "name": "stdout",
     "output_type": "stream",
     "text": [
      "Similarity between the top 100 users:\n",
      "[[ 0.          8.66025404  8.88819442 ...,  9.11043358  9.43398113\n",
      "   9.94987437]\n",
      " [ 8.66025404  0.          5.47722558 ...,  4.89897949  6.92820323\n",
      "   7.61577311]\n",
      " [ 8.88819442  5.47722558  0.         ...,  6.32455532  6.4807407\n",
      "   8.1240384 ]\n",
      " ..., \n",
      " [ 9.11043358  4.89897949  6.32455532 ...,  0.          7.34846923\n",
      "   7.74596669]\n",
      " [ 9.43398113  6.92820323  6.4807407  ...,  7.34846923  0.          8.94427191]\n",
      " [ 9.94987437  7.61577311  8.1240384  ...,  7.74596669  8.94427191  0.        ]]\n"
     ]
    }
   ],
   "source": [
    "vectorizer = CountVectorizer()\n",
    "vectors = vectorizer.fit_transform(top100UsersTagsLists)\n",
    "vectorsArray = vectors.toarray()\n",
    "euclidean_dists = metrics.euclidean_distances(vectorsArray)\n",
    "print('Similarity between the top 100 users:')\n",
    "print(euclidean_dists)"
   ]
  },
  {
   "cell_type": "code",
   "execution_count": 103,
   "metadata": {},
   "outputs": [
    {
     "data": {
      "image/png": "[encoded data removed]",
      "text/plain": [
       "<matplotlib.figure.Figure at 0x1db8144d390>"
      ]
     },
     "metadata": {},
     "output_type": "display_data"
    }
   ],
   "source": [
    "_ = sns.heatmap(euclidean_dists, xticklabels=False, yticklabels=False, linewidths=0,\n",
    "            square=True,cbar=True)"
   ]
  },
  {
   "cell_type": "markdown",
   "metadata": {
    "collapsed": true
   },
   "source": [
    "Here the heatmap is used to visualize the similarity in types of question answered by top 100 users of stackoverflow of the year 2015 (calculated based on their answer scores). The heatmap is plotted using the euclidean distance between these users' 'tag' vectors. We can see that most users' vectors are similar, except for few. The distinct light colored lines show the most dissimilar users."
   ]
  },
  {
   "cell_type": "markdown",
   "metadata": {},
   "source": [
    "-----------------"
   ]
  }
 ],
 "metadata": {
  "anaconda-cloud": {},
  "kernelspec": {
   "display_name": "Python 3",
   "language": "python",
   "name": "python3"
  },
  "language_info": {
   "codemirror_mode": {
    "name": "ipython",
    "version": 3
   },
   "file_extension": ".py",
   "mimetype": "text/x-python",
   "name": "python",
   "nbconvert_exporter": "python",
   "pygments_lexer": "ipython3",
   "version": "3.6.3"
  }
 },
 "nbformat": 4,
 "nbformat_minor": 1
}
